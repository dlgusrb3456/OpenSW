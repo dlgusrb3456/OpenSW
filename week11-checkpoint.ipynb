{
 "cells": [
  {
   "cell_type": "code",
   "execution_count": 7,
   "id": "d1683c57",
   "metadata": {},
   "outputs": [
    {
     "name": "stdout",
     "output_type": "stream",
     "text": [
      "나: 1\n",
      "는: 1\n",
      "다: 1\n",
      "바: 1\n",
      "보: 1\n"
     ]
    }
   ],
   "source": [
    "f= open(\"README.txt\")\n",
    "str = f.read()\n",
    "split = str.split()\n",
    "count = {}\n",
    "\n",
    "for word in split:\n",
    "    count[word] = count.get(word,0)+1\n",
    "    keys = sorted(count.keys())\n",
    "for word in keys:\n",
    "    print(word + ':', count[word])"
   ]
  },
  {
   "cell_type": "code",
   "execution_count": 15,
   "id": "86988951",
   "metadata": {},
   "outputs": [
    {
     "name": "stdout",
     "output_type": "stream",
     "text": [
      "(1,2)\n",
      "(3,4)\n",
      "(2,3)\n",
      "(4,5)\n"
     ]
    }
   ],
   "source": [
    "class Point:\n",
    "    def __init__(self,x=0,y=0):\n",
    "        self.x=x\n",
    "        self.y =y\n",
    "    def move(self,x,y):\n",
    "        self.x += x\n",
    "        self.y += y\n",
    "    def show(self):\n",
    "        print(\"({0:d},{1:d})\".format(self.x,self.y))\n",
    "        \n",
    "class Box(Point):\n",
    "    def __init__(self,p1=0,p2=0):\n",
    "        self.p1 = p1\n",
    "        self.p2 = p2\n",
    "    def move(self,dx,dy):\n",
    "        self.p1.move(dx,dy)\n",
    "        self.p2. move(dx,dy)\n",
    "    def show(self):\n",
    "        self.p1.show()\n",
    "        self.p2.show()\n",
    "\n",
    "p1 = Point(1,2)\n",
    "p1.show()\n",
    "p2=Point(3,4)\n",
    "p2.show()\n",
    "\n",
    "b=Box(p1,p2)\n",
    "b.move(1,1)\n",
    "b.show()"
   ]
  },
  {
   "cell_type": "code",
   "execution_count": null,
   "id": "63cd8484",
   "metadata": {},
   "outputs": [],
   "source": []
  },
  {
   "cell_type": "code",
   "execution_count": null,
   "id": "d672af50",
   "metadata": {},
   "outputs": [],
   "source": []
  }
 ],
 "metadata": {
  "kernelspec": {
   "display_name": "Python 3 (ipykernel)",
   "language": "python",
   "name": "python3"
  },
  "language_info": {
   "codemirror_mode": {
    "name": "ipython",
    "version": 3
   },
   "file_extension": ".py",
   "mimetype": "text/x-python",
   "name": "python",
   "nbconvert_exporter": "python",
   "pygments_lexer": "ipython3",
   "version": "3.10.4"
  }
 },
 "nbformat": 4,
 "nbformat_minor": 5
}
