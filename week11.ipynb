{
 "cells": [
  {
   "cell_type": "code",
   "execution_count": 7,
   "id": "258239a5",
   "metadata": {},
   "outputs": [
    {
     "name": "stdout",
     "output_type": "stream",
     "text": [
      "나: 1\n",
      "는: 1\n",
      "다: 1\n",
      "바: 1\n",
      "보: 1\n"
     ]
    }
   ],
   "source": [
    "#실습문제 1번\n",
    "f= open(\"README.txt\")\n",
    "str = f.read()\n",
    "split = str.split()\n",
    "count = {}\n",
    "\n",
    "for word in split:\n",
    "    count[word] = count.get(word,0)+1\n",
    "    keys = sorted(count.keys())\n",
    "for word in keys:\n",
    "    print(word + ':', count[word])"
   ]
  },
  {
   "cell_type": "code",
   "execution_count": 14,
   "id": "19196a7f",
   "metadata": {},
   "outputs": [
    {
     "name": "stdout",
     "output_type": "stream",
     "text": [
      "(1,2)\n",
      "(3,4)\n"
     ]
    },
    {
     "ename": "NameError",
     "evalue": "name 'move' is not defined",
     "output_type": "error",
     "traceback": [
      "\u001b[1;31m---------------------------------------------------------------------------\u001b[0m",
      "\u001b[1;31mNameError\u001b[0m                                 Traceback (most recent call last)",
      "Input \u001b[1;32mIn [14]\u001b[0m, in \u001b[0;36m<cell line: 28>\u001b[1;34m()\u001b[0m\n\u001b[0;32m     25\u001b[0m p2\u001b[38;5;241m.\u001b[39mshow()\n\u001b[0;32m     27\u001b[0m b\u001b[38;5;241m=\u001b[39mBox(p1,p2)\n\u001b[1;32m---> 28\u001b[0m \u001b[43mb\u001b[49m\u001b[38;5;241;43m.\u001b[39;49m\u001b[43mmove\u001b[49m\u001b[43m(\u001b[49m\u001b[38;5;241;43m1\u001b[39;49m\u001b[43m,\u001b[49m\u001b[38;5;241;43m1\u001b[39;49m\u001b[43m)\u001b[49m\n\u001b[0;32m     29\u001b[0m b\u001b[38;5;241m.\u001b[39mshow()\n",
      "Input \u001b[1;32mIn [14]\u001b[0m, in \u001b[0;36mBox.move\u001b[1;34m(self, dx, dy)\u001b[0m\n\u001b[0;32m     15\u001b[0m \u001b[38;5;28;01mdef\u001b[39;00m \u001b[38;5;21mmove\u001b[39m(\u001b[38;5;28mself\u001b[39m,dx,dy):\n\u001b[1;32m---> 16\u001b[0m     \u001b[38;5;28mself\u001b[39m\u001b[38;5;241m.\u001b[39mp1\u001b[38;5;241m=\u001b[39m\u001b[43mmove\u001b[49m(dx,dy)\n\u001b[0;32m     17\u001b[0m     \u001b[38;5;28mself\u001b[39m\u001b[38;5;241m.\u001b[39mp2 \u001b[38;5;241m=\u001b[39m move(dx,dy)\n",
      "\u001b[1;31mNameError\u001b[0m: name 'move' is not defined"
     ]
    }
   ],
   "source": [
    "#실습문제 2번\n",
    "class Point:\n",
    "    def __init__(self,x=0,y=0):\n",
    "        self.x=x\n",
    "        self.y =y\n",
    "    def move(self,x,y):\n",
    "        self.x += x\n",
    "        self.y += y\n",
    "    def show(self):\n",
    "        print(\"({0:d},{1:d})\".format(self.x,self.y))\n",
    "        \n",
    "class Box(Point):\n",
    "    def __init__(self,p1=0,p2=0):\n",
    "        self.p1 = p1\n",
    "        self.p2 = p2\n",
    "    def move(self,dx,dy):\n",
    "        self.p1=move(dx,dy)\n",
    "        self.p2 = move(dx,dy)\n",
    "    def show(self):\n",
    "        self.p1.show()\n",
    "        self.p2.show()\n",
    "\n",
    "p1 = Point(1,2)\n",
    "p1.show()\n",
    "p2=Point(3,4)\n",
    "p2.show()\n",
    "\n",
    "b=Box(p1,p2)\n",
    "b.move(1,1)\n",
    "b.show()"
   ]
  },
  {
   "cell_type": "code",
   "execution_count": null,
   "id": "9d7828f6",
   "metadata": {},
   "outputs": [],
   "source": []
  },
  {
   "cell_type": "code",
   "execution_count": null,
   "id": "06a92329",
   "metadata": {},
   "outputs": [],
   "source": []
  }
 ],
 "metadata": {
  "kernelspec": {
   "display_name": "Python 3 (ipykernel)",
   "language": "python",
   "name": "python3"
  },
  "language_info": {
   "codemirror_mode": {
    "name": "ipython",
    "version": 3
   },
   "file_extension": ".py",
   "mimetype": "text/x-python",
   "name": "python",
   "nbconvert_exporter": "python",
   "pygments_lexer": "ipython3",
   "version": "3.10.4"
  }
 },
 "nbformat": 4,
 "nbformat_minor": 5
}
