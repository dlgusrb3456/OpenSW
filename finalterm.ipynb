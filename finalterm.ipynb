{
 "cells": [
  {
   "cell_type": "code",
   "execution_count": 9,
   "id": "456a3d92",
   "metadata": {},
   "outputs": [
    {
     "name": "stdout",
     "output_type": "stream",
     "text": [
      "maxDay: 2021-06-28 max:  22424286.0\n",
      "minDay: 2021-01-28 min:  0.0\n"
     ]
    },
    {
     "data": {
      "text/plain": [
       "<function TextIOWrapper.close()>"
      ]
     },
     "execution_count": 9,
     "metadata": {},
     "output_type": "execute_result"
    }
   ],
   "source": [
    "import csv\n",
    "import pandas as pd\n",
    "import numpy as np\n",
    "\n",
    "f = open('country_vaccinations.csv','r',encoding='cp949')\n",
    "data = csv.reader(f,delimiter=',')\n",
    "header = csv.reader(f)\n",
    "header = next(data)\n",
    "min = 999999999\n",
    "max = 0\n",
    "minDay = \"\"\n",
    "maxDay = \"\"\n",
    "checkCountry = \"\"\n",
    "for row in data:\n",
    "    if row[7] == '':\n",
    "        continue\n",
    "    \n",
    "    checkCount = float(row[7])\n",
    "    \n",
    "    if checkCount<min:\n",
    "        min = checkCount\n",
    "        minDay = row[2]\n",
    "    \n",
    "    if checkCount>max:\n",
    "        max = checkCount\n",
    "        maxDay = row[2]\n",
    "    \n",
    "print(\"maxDay: \"+maxDay)\n",
    "print(\"minDay: \"+minDay)\n",
    "f.close"
   ]
  },
  {
   "cell_type": "code",
   "execution_count": null,
   "id": "835dd8c1",
   "metadata": {},
   "outputs": [],
   "source": []
  }
 ],
 "metadata": {
  "kernelspec": {
   "display_name": "Python 3 (ipykernel)",
   "language": "python",
   "name": "python3"
  },
  "language_info": {
   "codemirror_mode": {
    "name": "ipython",
    "version": 3
   },
   "file_extension": ".py",
   "mimetype": "text/x-python",
   "name": "python",
   "nbconvert_exporter": "python",
   "pygments_lexer": "ipython3",
   "version": "3.10.4"
  }
 },
 "nbformat": 4,
 "nbformat_minor": 5
}
