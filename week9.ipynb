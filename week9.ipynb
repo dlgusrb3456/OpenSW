{
 "cells": [
  {
   "cell_type": "markdown",
   "id": "bb6cc7d0",
   "metadata": {},
   "source": [
    "9주차 과제"
   ]
  },
  {
   "cell_type": "code",
   "execution_count": 8,
   "id": "9e4831ce",
   "metadata": {},
   "outputs": [
    {
     "name": "stdout",
     "output_type": "stream",
     "text": [
      "7\n",
      "36\n",
      "456분은  7 시간  36 분이다\n"
     ]
    }
   ],
   "source": [
    "#실습문제 1 456분은 몇시간 몇분인가\n",
    "\n",
    "minutes = 456\n",
    "hour = (int)(456/60)\n",
    "minute = 456%60\n",
    "print(\"456분은 \",hour,\"시간 \",minute ,\"분이다\")"
   ]
  },
  {
   "cell_type": "code",
   "execution_count": 14,
   "id": "5b76c650",
   "metadata": {},
   "outputs": [
    {
     "name": "stdout",
     "output_type": "stream",
     "text": [
      "가장 앞선 사람의 학점은 2.8 점 입니다.\n"
     ]
    }
   ],
   "source": [
    "#이름 제일 앞선 사람 학점 출력하기\n",
    "dic = {\"홍길동\":3.4,\"임꺽정\":4.0,\"김철수\":2.8,\"이영희\":3.9}\n",
    "dic2 = sorted(dic.items())\n",
    "print(\"가장 앞선 사람의 학점은\",dic2[0][1],\"점 입니다.\")"
   ]
  },
  {
   "cell_type": "code",
   "execution_count": null,
   "id": "ce66f64f",
   "metadata": {},
   "outputs": [],
   "source": []
  }
 ],
 "metadata": {
  "kernelspec": {
   "display_name": "Python 3 (ipykernel)",
   "language": "python",
   "name": "python3"
  },
  "language_info": {
   "codemirror_mode": {
    "name": "ipython",
    "version": 3
   },
   "file_extension": ".py",
   "mimetype": "text/x-python",
   "name": "python",
   "nbconvert_exporter": "python",
   "pygments_lexer": "ipython3",
   "version": "3.10.4"
  }
 },
 "nbformat": 4,
 "nbformat_minor": 5
}
